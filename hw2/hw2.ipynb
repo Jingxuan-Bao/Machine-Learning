{
  "cells": [
    {
      "cell_type": "markdown",
      "metadata": {
        "id": "qs0yamHN-dY0"
      },
      "source": [
        "# **CIS 4190/5190 Spring 2023 - Homework 2**\n"
      ]
    },
    {
      "cell_type": "code",
      "execution_count": 2,
      "metadata": {
        "id": "Rb-WLp5Z-cdy"
      },
      "outputs": [],
      "source": [
        "import random \n",
        "import numpy as np\n",
        "import pandas as pd\n",
        "import os\n",
        "import sys\n",
        "import matplotlib.pyplot as plt\n",
        "from numpy.linalg import *\n",
        "np.random.seed(42)  # don't change this line"
      ]
    },
    {
      "cell_type": "code",
      "execution_count": 3,
      "metadata": {
        "id": "O2VtEzsZ-loR",
        "colab": {
          "base_uri": "https://localhost:8080/"
        },
        "outputId": "72078d28-b45f-4aca-984b-26093a597eb6"
      },
      "outputs": [
        {
          "output_type": "stream",
          "name": "stdout",
          "text": [
            "[INFO, OK] Google Colab.\n"
          ]
        }
      ],
      "source": [
        "# For autogreader only, do not modify this cell. \n",
        "# True for Google Colab, False for autograder\n",
        "NOTEBOOK = (os.getenv('IS_AUTOGRADER') is None)\n",
        "if NOTEBOOK:\n",
        "    print(\"[INFO, OK] Google Colab.\")\n",
        "else:\n",
        "    print(\"[INFO, OK] Autograder.\")"
      ]
    },
    {
      "cell_type": "markdown",
      "metadata": {
        "id": "cjjXBdEb-p8K"
      },
      "source": [
        "# **PennGrader Setup**\n",
        "\n",
        "First, you'll need to set up the PennGrader, an autograder we are going to use throughout the semester. The PennGrader will automatically grade your answer and provide you with an instant feedback. Unless otherwise stated, you can resubmit up to a reasonable number of attempts (e.g. 100 attemptes per day). **We will only record your latest score in our backend database**. \n",
        "\n",
        "After finishing each homework assignment, you must submit your iPython notebook to gradescope before the homework deadline. Gradescope will then retrive and display your scores from our backend database. "
      ]
    },
    {
      "cell_type": "code",
      "execution_count": 4,
      "metadata": {
        "id": "6GCTLN4G-nK2"
      },
      "outputs": [],
      "source": [
        "%%capture\n",
        "!pip3 install penngrader --upgrade"
      ]
    },
    {
      "cell_type": "code",
      "execution_count": 5,
      "metadata": {
        "id": "QLnoPRci-sTC"
      },
      "outputs": [],
      "source": [
        "from penngrader.grader import *"
      ]
    },
    {
      "cell_type": "code",
      "execution_count": 6,
      "metadata": {
        "id": "qu0XYZHO-t8J"
      },
      "outputs": [],
      "source": [
        "#PLEASE ENSURE YOUR PENN-ID IS ENTERED CORRECTLY. IF NOT, THE AUTOGRADER WON'T KNOW WHO \n",
        "#TO ASSIGN POINTS TO YOU IN OUR BACKEND\n",
        "STUDENT_ID = 82897132          # YOUR PENN-ID GOES HERE AS AN INTEGER#"
      ]
    },
    {
      "cell_type": "markdown",
      "metadata": {
        "id": "tIDTGGbo-xkf"
      },
      "source": [
        "Run the following cell to initialize the autograder. This autograder will let you submit your code directly from this notebook and immidiately get a score.\n",
        "\n",
        "**NOTE:** Remember we store your submissions and check against other student's submissions... so, not that you would, but no cheating."
      ]
    },
    {
      "cell_type": "code",
      "execution_count": 7,
      "metadata": {
        "id": "bw_QDnZk-vvI",
        "colab": {
          "base_uri": "https://localhost:8080/"
        },
        "outputId": "ba6d76a8-11f4-41e0-c542-a6c80926d47d"
      },
      "outputs": [
        {
          "output_type": "stream",
          "name": "stdout",
          "text": [
            "PennGrader initialized with Student ID: 82897132\n",
            "\n",
            "Make sure this correct or we will not be able to store your grade\n"
          ]
        }
      ],
      "source": [
        "grader = PennGrader(homework_id = 'CIS5190_Sp23_HW2', student_id = STUDENT_ID)"
      ]
    },
    {
      "cell_type": "code",
      "execution_count": 8,
      "metadata": {
        "id": "f0_ydbgD0Kvf"
      },
      "outputs": [],
      "source": [
        "# Serialization code needed by the autograder\n",
        "import inspect, sys\n",
        "from IPython.core.magics.code import extract_symbols\n",
        "\n",
        "def new_getfile(object, _old_getfile=inspect.getfile):\n",
        "    if not inspect.isclass(object):\n",
        "        return _old_getfile(object)\n",
        "    \n",
        "    # Lookup by parent module (as in current inspect)\n",
        "    if hasattr(object, '__module__'):\n",
        "        object_ = sys.modules.get(object.__module__)\n",
        "        if hasattr(object_, '__file__'):\n",
        "            return object_.__file__\n",
        "    \n",
        "    # If parent module is __main__, lookup by methods (NEW)\n",
        "    for name, member in inspect.getmembers(object):\n",
        "        if inspect.isfunction(member) and object.__qualname__ + '.' + member.__name__ == member.__qualname__:\n",
        "            return inspect.getfile(member)\n",
        "    else:\n",
        "        raise TypeError('Source for {!r} not found'.format(object))\n",
        "inspect.getfile = new_getfile\n",
        "\n",
        "def grader_serialize(obj):\n",
        "    cell_code = \"\".join(inspect.linecache.getlines(new_getfile(obj)))\n",
        "    class_code = extract_symbols(cell_code, obj.__name__)[0][0]\n",
        "    return class_code"
      ]
    },
    {
      "cell_type": "markdown",
      "metadata": {
        "id": "oQCyLhELJ7LX"
      },
      "source": [
        "#### **NOTE 1. Results of sections marked as \"manually graded\" should be submitted along with the written homework solutions.**\n",
        "\n",
        "#### **NOTE 2. If you are running into a `__builtins__' error, it's likely because you're using a function call of the form numpy.ndarray.mean(), like a.mean(). This does not play nice with PennGrader unfortunately. Please use the function call numpy.mean(a) instead.**"
      ]
    },
    {
      "cell_type": "markdown",
      "metadata": {
        "id": "xfs6aWUhmWJT"
      },
      "source": [
        "# **1. Linear Regression**\n",
        "\n",
        "## **1.1. Linear Regression Implementation [19 pts, autograded]**\n",
        "\n",
        "In this section you will implement linear regression with both L1 and L2 regularization. Your class LinearRegression must implement the following API:\n",
        "\n",
        "* `__init__(alpha, tol, max_iter, theta_init, penalty, lambd)`\n",
        "* `compute_cost(theta, X, y)`\n",
        "* `compute_gradient(theta, X, y)`\n",
        "* `fit(X, y)`\n",
        "* `has_converged(theta_old, theta_new)`\n",
        "* `predict(X)`\n",
        "\n",
        "Note that these methods have already been defined correctly for you in the LinearRegression class. **DO NOT** change the API.\n",
        "\n",
        "### **1.1.1. Cost Function [5 pts]**\n",
        "\n",
        "The `compute_cost` function should compute the cost for a given $\\theta$ vector. The cost is a scalar value given by:\n",
        "\n",
        "$\n",
        "\\mathcal{L}({\\theta}) = \\frac{1}{N}\\sum_{i =1}^N (h_{{\\theta}}({x}_i) - y_i)^2\n",
        "$\n",
        "\n",
        "where\n",
        "\n",
        "> $h_{{\\theta}}({x}_i) = \\theta^Tx_i$\n",
        "\n",
        "Based on the regularization penalty, you may need to add below regularization penalty loss to MSE Loss computed previously.\n",
        "\n",
        "L1 Regularization Loss:\n",
        ">$\n",
        "\\mathcal{L_1}({\\theta}) = \\mathcal{L}({\\theta}) + \\lambda\\sum_{j = 1}^D  |{\\theta}_j|\n",
        "$\n",
        "\n",
        "L2 Regularization Loss:\n",
        ">$\n",
        "\\mathcal{L_2}({\\theta}) = \\mathcal{L}({\\theta}) + \\lambda\\sum_{j = 1}^D  {\\theta}_j^2 \n",
        "$\n",
        "\n",
        "$N$ is the number of training samples and $D$ is the number of features (excluding the intercept term). $\\theta$ is a $D + 1$ dimensional vector, with the first element being the intercept term. Note that we do not include the intercept in the regularization terms.\n",
        "\n",
        "---\n",
        "\n",
        "### **1.1.2. Gradient of the Cost Function [5 pts]**\n",
        "\n",
        "The `compute_gradient` function should compute the gradient of the cost function at a given $\\theta$.\n",
        "\n",
        "---\n",
        "\n",
        "### **1.1.3. Convergence Check [1 pt]**\n",
        "\n",
        "The `has_converged` function should return whether gradient descent algorithm has converged or not. Refer 1.1.4 for convergence condition.\n",
        " \n",
        "---\n",
        "\n",
        "### **1.1.4. Training with Gradient Descent [3 pts]**\n",
        "\n",
        "The `fit` method should train the model via gradient descent, relying on the `compute_cost` and `compute_gradient` functions. The trained weights/coefficients must be stored as `theta_`. The weights and the corresponding cost after every gradient descent iteration must be stored in `hist_theta_` and `hist_cost_` respectively.\n",
        "\n",
        "* The gradient descent stops or converges when $\\theta$ stops changing or changes negligibly between consecutive iterations, i.e., when \n",
        "$\\| {\\theta}_\\mathit{new} -  {\\theta}_\\mathit{old} \\|_2 \\leq \\epsilon$, \n",
        "for some small $\\epsilon$ (e.g., $\\epsilon$ = 1E-4). $\\epsilon$ is stored as `tol` (short for tolerance). \n",
        "\n",
        "* To ensure that the function terminates, we should set a maximum limit for the number of epochs irrespective of whether $\\theta$ converges or not. The limit is stored as `max_iter`.\n",
        "\n",
        "* `alpha` is the learning rate of the gradient descent algorithm.\n",
        "\n",
        "---\n",
        "\n",
        "### **1.1.5. Training with Stochastic Gradient Descent (SGD) [3 pts]**\n",
        "\n",
        "The `fit_sgd` method should train the model via stochastic gradient descent (SGD), relying on the `compute_cost` and `compute_gradient` functions.\n",
        "\n",
        "The trained weights/coefficients must be stored as `theta_`. The weights and the corresponding cost after every SGD iteration must be stored in `hist_theta_` and `hist_cost_` respectively.\n",
        "\n",
        "* Unlike regular (or batch) gradient descent, SGD takes a gradient step on a single training example on each iteration. In other words, rather than compute the gradient for all training examples, summing them, and taking a single gradient step, it iterates through training examples, computes the gradient for that training example, and immediately takes a single gradient step before proceeding to the next training example. One pass over the entire training dataset is called an epoch; at the end of an epoch, the next epoch restarts from the first example in the training dataset.\n",
        "\n",
        "* As with gradient descent, SGD stops or converges when $\\theta$ stops changing or changes negligibly between consecutive iterations, i.e., when \n",
        "$\\| {\\theta}_\\mathit{new} -  {\\theta}_\\mathit{old} \\|_2 \\leq \\epsilon$, \n",
        "for some small $\\epsilon$ (e.g., $\\epsilon$ = 1E-4). $\\epsilon$ is stored as `tol` (short for tolerance). Since each step is much shorter, SGD typically only checks for convergence at the end of each epoch.\n",
        "\n",
        "* To ensure that the function terminates, we should set a maximum limit for the number of gradient descent iterations irrespective of whether $\\theta$ converges or not. The limit is stored as `max_iter`.\n",
        "\n",
        "* `alpha` is the learning rate of the SGD algorithm.\n",
        "\n",
        "---\n",
        "\n",
        "### **1.1.6. Predict [2 pts]**\n",
        "\n",
        "The `predict` function should predict the output for the data points in a given input data matrix."
      ]
    },
    {
      "cell_type": "code",
      "execution_count": 9,
      "metadata": {
        "id": "x_iD4A-TmjKe"
      },
      "outputs": [],
      "source": [
        "class LinearRegression:\n",
        "\n",
        "    \"\"\"\n",
        "    Linear Regression\n",
        "\n",
        "    Parameters\n",
        "    ----------\n",
        "    alpha: float, default=0.01\n",
        "        Learning rate\n",
        "    tol : float, default=0.0001\n",
        "        Tolerance for stopping criteria\n",
        "    max_iter : int, default=10000\n",
        "        Maximum number of iterations of gradient descent\n",
        "    theta_init: None (or) numpy.ndarray of shape (D + 1,)\n",
        "        The initial weights; if None, all weights will be zero by default\n",
        "    penalty : string, default = None\n",
        "        The type of regularization. The other acceptable options are l1 and l2\n",
        "    lambd : float, default = 1.0\n",
        "        The parameter regularization constant (i.e. lambda)\n",
        "\n",
        "    Attributes\n",
        "    ----------\n",
        "    theta_ : numpy.ndarray of shape (D + 1,)\n",
        "        The value of the coefficients after gradient descent has converged\n",
        "        or the number of iterations hit the maximum limit\n",
        "    hist_theta_ : numpy.ndarray of shape (num_iter, D + 1) where num_iter is the number of gradient descent iterations\n",
        "        Stores theta_ after every gradient descent iteration\n",
        "    hist_cost_ : numpy.ndarray of shape (num_iter,) where num_iter is the number of gradient descent iterations\n",
        "        Stores cost after every gradient descent iteration\n",
        "    \"\"\"\n",
        "    \n",
        "    def __init__(self, alpha = 0.01, tol=1e-4, max_iter = 100, theta_init = None, penalty = None, lambd = 0):\n",
        "        \n",
        "        # store meta-data\n",
        "        self.alpha = alpha\n",
        "        self.theta_init = theta_init\n",
        "        self.max_iter = max_iter\n",
        "        self.tol = tol\n",
        "        self.penalty = penalty\n",
        "        self.lambd = lambd\n",
        "\n",
        "        self.theta_ = None\n",
        "        self.hist_cost_ = None\n",
        "        self.hist_theta_ = None\n",
        "    \n",
        "    def compute_cost(self, theta, X, y):\n",
        "    \n",
        "        \"\"\"\n",
        "        Compute the cost/objective function.\n",
        "\n",
        "        Parameters\n",
        "        ----------\n",
        "        theta: numpy.ndarray of shape (D + 1,)\n",
        "            The coefficients\n",
        "        X: numpy.ndarray of shape (N, D + 1)\n",
        "            The features matrix\n",
        "        y: numpy.ndarray of shape (N,)\n",
        "            The target variable array\n",
        "\n",
        "        Returns\n",
        "        -------\n",
        "        cost: float\n",
        "            The cost as a scalar value\n",
        "        \"\"\"\n",
        "        \n",
        "        # TODO STARTS: Complete the function (should account for three cases - no penalty, l1 penalty, and l2 penalty)\n",
        "        #print(theta)\n",
        "        #print(theta[1:])\n",
        "        #𝜃  is a 𝐷+1 dimensional vector, with the first element being the intercept term. Note that we do not include the intercept in the regularization terms.\n",
        "        mse = np.sum((y - np.dot(X, theta)) ** 2) / len(X)\n",
        "        fix = 0\n",
        "        if self.penalty == \"l1\":\n",
        "          fix = self.lambd * np.sum(abs(theta[1:]))\n",
        "        if self.penalty == \"l2\":\n",
        "          fix = self.lambd * np.sum(np.dot(theta[1:], theta[1:]))\n",
        "        res = mse + fix\n",
        "        return res\n",
        "        # TODO ENDS\n",
        "\n",
        "    def compute_gradient(self, theta, X, y):\n",
        "    \n",
        "        \"\"\"\n",
        "        Compute the gradient of the cost function.\n",
        "\n",
        "        Parameters\n",
        "        ----------\n",
        "        theta: numpy.ndarray of shape (D + 1,)\n",
        "            The coefficients\n",
        "        X: numpy.ndarray of shape (N, D + 1)\n",
        "            The features matrix\n",
        "        y: numpy.ndarray of shape (N,)\n",
        "            The target variable array\n",
        "\n",
        "        Returns\n",
        "        -------\n",
        "        gradient: numpy.ndarray of shape (D + 1,)\n",
        "            The gradient values\n",
        "        \"\"\"\n",
        "        \n",
        "        # TODO STARTS: Complete the function (should account for three cases - no penalty, l1 penalty, and l2 penalty)\n",
        "        #print(\"theta\")\n",
        "        #print(theta)\n",
        "        #print(theta.shape)\n",
        "        #print(\"y shape\")\n",
        "        #print(y)\n",
        "        #print(y.shape)\n",
        "        diff = (y - np.matmul(X, theta)) # (n, )\n",
        "        #print(diff)\n",
        "        #print(X)\n",
        "        #print(np.matmul(diff, X))\n",
        "        #print(\"diff shape\")\n",
        "        #print(diff)\n",
        "        #print(diff.shape)\n",
        "        #print(\"X shape\")\n",
        "        #print(X)\n",
        "        #print(X.shape)\n",
        "        grad = -2 * np.matmul(diff, X) / len(X) # (d + 1, )\n",
        "        #print(grad)\n",
        "        fix = 0\n",
        "        if self.penalty == \"l1\":\n",
        "            grad[1:] += self.lambd * np.sign(theta[1:]) # (d, )\n",
        "        if self.penalty == \"l2\":\n",
        "            grad[1:] += 2 * self.lambd * theta[1:]\n",
        "        \n",
        "        return grad #(d + 1, )\n",
        "        # TODO ENDS\n",
        "\n",
        "    def has_converged(self, theta_old, theta_new):\n",
        "\n",
        "        \"\"\"\n",
        "        Return whether gradient descent has converged.\n",
        "\n",
        "        Parameters\n",
        "        ----------\n",
        "        theta_old: numpy.ndarray of shape (D + 1,)\n",
        "            The weights prior to the update by gradient descent\n",
        "        theta_new: numpy.ndarray of shape (D + 1,)\n",
        "            The weights after the update by gradient descent\n",
        "\n",
        "        Returns\n",
        "        -------\n",
        "        converged: bool\n",
        "            Whether gradient descent converged or not\n",
        "        \"\"\"\n",
        "\n",
        "        # TODO START: Complete the function\n",
        "        converge = np.sqrt(np.matmul(theta_old - theta_new, theta_old - theta_new))\n",
        "        if converge < self.tol:\n",
        "          return True\n",
        "        return False\n",
        "        # TODO END\n",
        "\n",
        "    def fit(self, X, y):\n",
        "\n",
        "        \"\"\"\n",
        "        Compute the coefficients using gradient descent and store them as theta_.\n",
        "\n",
        "        Parameters\n",
        "        ----------\n",
        "        X: numpy.ndarray of shape (N, D)\n",
        "            The features matrix\n",
        "        y: numpy.ndarray of shape (N,)\n",
        "            The target variable array\n",
        "\n",
        "        Returns\n",
        "        -------\n",
        "        Nothing\n",
        "        \"\"\"\n",
        "\n",
        "        N, D = X.shape\n",
        "\n",
        "        # Adding a column of ones at the beginning for the bias term\n",
        "        ones_col = np.ones((N, 1))\n",
        "        X = np.hstack((ones_col, X))\n",
        "        \n",
        "        # Initializing the weights\n",
        "        if self.theta_init is None:\n",
        "            theta_old = np.zeros((D + 1,))\n",
        "        else:\n",
        "            theta_old = self.theta_init\n",
        "\n",
        "        # Initializing the historical weights matrix\n",
        "        # Remember to append this matrix with the weights after every gradient descent iteration\n",
        "        self.hist_theta_ = np.array([theta_old])\n",
        "\n",
        "        # Computing the cost for the initial weights\n",
        "        cost = self.compute_cost(theta_old, X, y)\n",
        "\n",
        "        # Initializing the historical cost array\n",
        "        # Remember to append this array with the cost after every gradient descent iteration\n",
        "        self.hist_cost_ = np.array([cost])\n",
        "        \n",
        "        # TODO START: Complete the function\n",
        "        for i in range(self.max_iter):\n",
        "          theta_ = theta_old - self.alpha * self.compute_gradient(theta_old, X, y)\n",
        "          self.hist_theta_ = np.vstack((self.hist_theta_, theta_))\n",
        "          self.hist_cost_ = np.vstack((self.hist_cost_, self.compute_cost(theta_, X, y)))\n",
        "          if self.has_converged(theta_old, theta_):\n",
        "            break \n",
        "          theta_old = theta_\n",
        "        # TODO END\n",
        "\n",
        "    def fit_sgd(self, X, y):\n",
        "\n",
        "        \"\"\"\n",
        "        Compute the coefficients using gradient descent and store them as theta_.\n",
        "        Make sure to save theta_ for each gradient descent conducted\n",
        "\n",
        "        Parameters\n",
        "        ----------\n",
        "        X: numpy.ndarray of shape (N, D)\n",
        "            The features matrix\n",
        "        y: numpy.ndarray of shape (N,)\n",
        "            The target variable array\n",
        "\n",
        "        Returns\n",
        "        -------\n",
        "        Nothing\n",
        "        \"\"\"\n",
        "\n",
        "        N, D = X.shape\n",
        "\n",
        "        # Adding a column of ones at the beginning for the bias term\n",
        "        ones_col = np.ones((N, 1))\n",
        "        X = np.hstack((ones_col, X))\n",
        "        \n",
        "        # Initializing the weights\n",
        "        if self.theta_init is None:\n",
        "            theta_old = np.zeros((D + 1,))\n",
        "        else:\n",
        "            theta_old = self.theta_init\n",
        "\n",
        "        # Initializing the historical weights matrix\n",
        "        # Remember to append this matrix with the weights after every gradient descent iteration\n",
        "        self.hist_theta_ = np.array([theta_old])\n",
        "\n",
        "        # Computing the cost for the initial weights\n",
        "        cost = self.compute_cost(theta_old, X, y)\n",
        "\n",
        "        # Initializing the historical cost array\n",
        "        # Remember to append this array with the cost after every gradient descent iteration\n",
        "        self.hist_cost_ = np.array([cost])\n",
        "        \n",
        "        # TODO START: Complete the function\n",
        "        for i in range(self.max_iter):\n",
        "          for j in range(N):\n",
        "            x_i = np.array([X[j,:]])\n",
        "            y_i = np.array([y[j]])\n",
        "            theta_ = theta_old - self.alpha * self.compute_gradient(theta_old, x_i, y_i)\n",
        "            self.hist_theta_ = np.vstack((self.hist_theta_, theta_))\n",
        "            self.hist_cost_ = np.vstack((self.hist_cost_, self.compute_cost(theta_, x_i, y_i)))\n",
        "            if self.has_converged(theta_old, theta_):\n",
        "              break \n",
        "            theta_old = theta_\n",
        "        # TODO END\n",
        "\n",
        "    def predict(self, X):\n",
        "\n",
        "        \"\"\"\n",
        "        Predict the target variable values for the data points in X.\n",
        "\n",
        "        Parameters\n",
        "        ----------\n",
        "        X: numpy.ndarray of shape (N, D)\n",
        "            The features matrix\n",
        "\n",
        "        Returns\n",
        "        -------\n",
        "        y_hat: numpy.ndarray of shape (N,)\n",
        "            The predicted target variables values for the data points in X\n",
        "        \"\"\"\n",
        "\n",
        "        N = X.shape[0]\n",
        "        X = np.hstack((np.ones((N, 1)), X))\n",
        "        \n",
        "        # TODO START: Complete the function\n",
        "        return np.matmul(X, self.hist_theta_[-1])\n",
        "        # TODO END"
      ]
    },
    {
      "cell_type": "code",
      "source": [
        "    test_case_theta = np.array([ 1.62434536, -0.61175641])\n",
        "    test_case_X = np.array([[ 1.62434536, -0.61175641],\n",
        "                            [-0.52817175, -1.07296862],\n",
        "                            [ 0.86540763, -2.3015387 ],\n",
        "                            [ 1.74481176, -0.7612069 ],\n",
        "                            [ 0.3190391,  -0.24937038]])\n",
        "    test_case_y = np.array([1, 1, 0, 0, 1])\n",
        "student_lr_reg = LinearRegression()\n",
        "#ans = student_lr_reg.compute_cost(test_case_theta, test_case_X, test_case_y)\n",
        "required_ans = [ 4.79663712, -3.53908485]\n",
        "student_lr_reg.compute_gradient(test_case_theta, test_case_X, test_case_y)"
      ],
      "metadata": {
        "colab": {
          "base_uri": "https://localhost:8080/"
        },
        "id": "MjjeWAcSWz6W",
        "outputId": "15bb7da3-2964-40ef-8b59-31f8e3dbea05"
      },
      "execution_count": 10,
      "outputs": [
        {
          "output_type": "execute_result",
          "data": {
            "text/plain": [
              "array([ 4.79663712, -3.53908485])"
            ]
          },
          "metadata": {},
          "execution_count": 10
        }
      ]
    },
    {
      "cell_type": "code",
      "execution_count": 11,
      "metadata": {
        "id": "0gOdODTWQQX0"
      },
      "outputs": [],
      "source": [
        "def test_lin_reg_compute_cost(StudentLinearRegression):\n",
        "    \n",
        "    test_case_theta = np.array([ 1.62434536, -0.61175641])\n",
        "    test_case_X = np.array([[ 1.62434536, -0.61175641],\n",
        "                            [-0.52817175, -1.07296862],\n",
        "                            [ 0.86540763, -2.3015387 ],\n",
        "                            [ 1.74481176, -0.7612069 ],\n",
        "                            [ 0.3190391,  -0.24937038]])\n",
        "    test_case_y = np.array([1, 1, 0, 0, 1])\n",
        "\n",
        "    student_lr_reg = StudentLinearRegression()\n",
        "    student_ans = student_lr_reg.compute_cost(test_case_theta, test_case_X, test_case_y)\n",
        "    required_ans = 4.881828654157736\n",
        "    \n",
        "    assert np.abs(student_ans - required_ans) <= 1e-2\n",
        "\n",
        "    student_lr_reg = StudentLinearRegression(penalty=\"l1\", lambd=0.1)\n",
        "    student_ans = student_lr_reg.compute_cost(test_case_theta, test_case_X, test_case_y)\n",
        "    required_ans = 4.94300429515773\n",
        "\n",
        "    assert np.abs(student_ans - required_ans) <= 1e-2\n",
        "\n",
        "    student_lr_reg = StudentLinearRegression(penalty=\"l2\", lambd=0.1)\n",
        "    student_ans = student_lr_reg.compute_cost(test_case_theta, test_case_X, test_case_y)\n",
        "    required_ans = 4.919253244675344\n",
        "    assert np.abs(student_ans - required_ans) <= 1e-2\n",
        "\n",
        "if NOTEBOOK:\n",
        "    test_lin_reg_compute_cost(LinearRegression)"
      ]
    },
    {
      "cell_type": "code",
      "execution_count": 12,
      "metadata": {
        "id": "ct-hUcbC9Zp1",
        "colab": {
          "base_uri": "https://localhost:8080/"
        },
        "outputId": "ea87c66d-2e7f-47e6-f044-275b0d9a4f09"
      },
      "outputs": [
        {
          "output_type": "stream",
          "name": "stdout",
          "text": [
            "Correct! You earned 5/5 points. You are a star!\n",
            "\n",
            "Your submission has been successfully recorded in the gradebook.\n"
          ]
        }
      ],
      "source": [
        "# PennGrader Grading Cell\n",
        "if NOTEBOOK:\n",
        "    grader.grade(test_case_id = 'test_lin_reg_compute_cost', answer = LinearRegression)"
      ]
    },
    {
      "cell_type": "code",
      "execution_count": 13,
      "metadata": {
        "id": "pysdW3awRLl1"
      },
      "outputs": [],
      "source": [
        "def test_lin_reg_compute_gradient(StudentLinearRegression):\n",
        "    \n",
        "    test_case_theta = np.array([ 1.62434536, -0.61175641])\n",
        "    test_case_X = np.array([[ 1.62434536, -0.61175641],\n",
        "                            [-0.52817175, -1.07296862],\n",
        "                            [ 0.86540763, -2.3015387 ],\n",
        "                            [ 1.74481176, -0.7612069 ],\n",
        "                            [ 0.3190391,  -0.24937038]])\n",
        "    test_case_y = np.array([1, 1, 0, 0, 1])\n",
        "\n",
        "    student_lr_reg = StudentLinearRegression()\n",
        "    student_ans = student_lr_reg.compute_gradient(test_case_theta, test_case_X, test_case_y)\n",
        "    required_ans = [ 4.79663712, -3.53908485]\n",
        "    assert np.linalg.norm(student_ans - required_ans) <= 1e-2\n",
        "\n",
        "    student_lr_reg = StudentLinearRegression(penalty=\"l1\", lambd=0.1)\n",
        "    student_ans = student_lr_reg.compute_gradient(test_case_theta, test_case_X, test_case_y)\n",
        "    required_ans = [ 4.79663712, -3.63908485]\n",
        "\n",
        "    assert np.linalg.norm(student_ans - required_ans) <= 1e-2\n",
        "\n",
        "    student_lr_reg = StudentLinearRegression(penalty=\"l2\", lambd=0.1)\n",
        "    student_ans = student_lr_reg.compute_gradient(test_case_theta, test_case_X, test_case_y)\n",
        "    required_ans = [ 4.79663712, -3.66143613]\n",
        "    assert np.linalg.norm(student_ans - required_ans) <= 1e-2\n",
        "\n",
        "if NOTEBOOK:\n",
        "    test_lin_reg_compute_gradient(LinearRegression)"
      ]
    },
    {
      "cell_type": "code",
      "execution_count": 14,
      "metadata": {
        "id": "VptfbtsMAEVB",
        "colab": {
          "base_uri": "https://localhost:8080/"
        },
        "outputId": "fa63ee20-06df-4ef8-bc19-b34d6a83977c"
      },
      "outputs": [
        {
          "output_type": "stream",
          "name": "stdout",
          "text": [
            "Correct! You earned 5/5 points. You are a star!\n",
            "\n",
            "Your submission has been successfully recorded in the gradebook.\n"
          ]
        }
      ],
      "source": [
        "# PennGrader Grading Cell\n",
        "if NOTEBOOK:\n",
        "    grader.grade(test_case_id = 'test_lin_reg_compute_gradient', answer = LinearRegression)"
      ]
    },
    {
      "cell_type": "code",
      "execution_count": 15,
      "metadata": {
        "id": "naEgZPDXQ5_U"
      },
      "outputs": [],
      "source": [
        "def test_lin_reg_has_converged(StudentLinearRegression):\n",
        "\n",
        "    student_lr_reg = StudentLinearRegression()\n",
        "    test_case_theta_old = np.array([ 1.62434536, -0.61175641])\n",
        "    test_case_theta_new = np.array([1.624345, -0.611756])\n",
        "    student_ans = student_lr_reg.has_converged(test_case_theta_old, test_case_theta_new)\n",
        "    required_ans = True\n",
        "    \n",
        "    assert student_ans == required_ans\n",
        "\n",
        "if NOTEBOOK:\n",
        "    test_lin_reg_has_converged(LinearRegression)"
      ]
    },
    {
      "cell_type": "code",
      "execution_count": 16,
      "metadata": {
        "id": "7rx213_3_gmj",
        "colab": {
          "base_uri": "https://localhost:8080/"
        },
        "outputId": "a2470ed8-f3ce-45ad-b17a-9738f0051295"
      },
      "outputs": [
        {
          "output_type": "stream",
          "name": "stdout",
          "text": [
            "Correct! You earned 1/1 points. You are a star!\n",
            "\n",
            "Your submission has been successfully recorded in the gradebook.\n"
          ]
        }
      ],
      "source": [
        "# PennGrader Grading Cell\n",
        "if NOTEBOOK:\n",
        "    grader.grade(test_case_id = 'test_lin_reg_has_converged', answer = LinearRegression)"
      ]
    },
    {
      "cell_type": "code",
      "execution_count": 17,
      "metadata": {
        "id": "NF9jGYOVSrC2",
        "colab": {
          "base_uri": "https://localhost:8080/"
        },
        "outputId": "8d60f25c-2b5d-403d-de24-572ffa3fdff5"
      },
      "outputs": [
        {
          "output_type": "stream",
          "name": "stdout",
          "text": [
            "[[ 0.          0.          0.        ]\n",
            " [ 0.012       0.00566085 -0.00773638]\n",
            " [ 0.02351422  0.01085581 -0.01491529]\n",
            " [ 0.03457102  0.01561393 -0.0215702 ]\n",
            " [ 0.04519706  0.01996249 -0.02773259]\n",
            " [ 0.05541739  0.02392713 -0.03343205]]\n",
            "[[ 0.          0.          0.        ]\n",
            " [ 0.012       0.00566085 -0.00773638]\n",
            " [ 0.02351422  0.01085581 -0.01491529]\n",
            " [ 0.03457102  0.01561393 -0.0215702 ]\n",
            " [ 0.04519706  0.01996249 -0.02773259]\n",
            " [ 0.05541739  0.02392713 -0.03343205]]\n"
          ]
        }
      ],
      "source": [
        "def test_lin_reg_fit(StudentLinearRegression):\n",
        "    \n",
        "    student_lr_reg = StudentLinearRegression(max_iter=5)\n",
        "    test_case_X = np.array([[ 1.62434536, -0.61175641],\n",
        "                            [-0.52817175, -1.07296862],\n",
        "                            [ 0.86540763, -2.3015387 ],\n",
        "                            [ 1.74481176, -0.7612069 ],\n",
        "                            [ 0.3190391,  -0.24937038]])\n",
        "    test_case_y = np.array([1, 1, 0, 0, 1])\n",
        "    student_lr_reg.fit(test_case_X, test_case_y)\n",
        "    student_ans = student_lr_reg.hist_theta_\n",
        "    required_ans = np.array([[ 0.        ,  0.        ,  0.        ],\n",
        "       [ 0.012     ,  0.00566085, -0.00773638],\n",
        "       [ 0.02351422,  0.01085581, -0.01491529],\n",
        "       [ 0.03457102,  0.01561393, -0.0215702 ],\n",
        "       [ 0.04519706,  0.01996249, -0.02773259],\n",
        "       [ 0.05541739,  0.02392713, -0.03343205]])\n",
        "    print(student_ans)\n",
        "    print(required_ans)\n",
        "    assert np.linalg.norm(student_ans - required_ans) <= 1e-2\n",
        "\n",
        "if NOTEBOOK:\n",
        "    test_lin_reg_fit(LinearRegression)"
      ]
    },
    {
      "cell_type": "code",
      "execution_count": 18,
      "metadata": {
        "id": "VgCoBChfNobE",
        "colab": {
          "base_uri": "https://localhost:8080/"
        },
        "outputId": "bebc00a9-eeca-4273-ef1c-01d76e1e4705"
      },
      "outputs": [
        {
          "output_type": "stream",
          "name": "stdout",
          "text": [
            "Correct! You earned 3/3 points. You are a star!\n",
            "\n",
            "Your submission has been successfully recorded in the gradebook.\n"
          ]
        }
      ],
      "source": [
        "# PennGrader Grading Cell\n",
        "if NOTEBOOK:\n",
        "    grader.grade(test_case_id = 'test_lin_reg_fit', answer = LinearRegression)"
      ]
    },
    {
      "cell_type": "code",
      "execution_count": 19,
      "metadata": {
        "id": "P0ra9f4IKvy6",
        "colab": {
          "base_uri": "https://localhost:8080/"
        },
        "outputId": "60084266-bcc7-4d45-d72e-c8bc0d9b9b57"
      },
      "outputs": [
        {
          "output_type": "stream",
          "name": "stdout",
          "text": [
            "[[ 0.          0.          0.        ]\n",
            " [ 0.02        0.03248691 -0.01223513]\n",
            " [ 0.03968062  0.02209216 -0.03335181]\n",
            " [ 0.03696942  0.01974587 -0.02711189]\n",
            " [ 0.03512822  0.01653332 -0.02571035]\n",
            " [ 0.05419193  0.02261539 -0.03046428]\n",
            " [ 0.07200065  0.05154291 -0.04135888]\n",
            " [ 0.09021758  0.04192125 -0.06090506]\n",
            " [ 0.08488414  0.03730565 -0.04862995]\n",
            " [ 0.08114428  0.0307803  -0.04578314]\n",
            " [ 0.09909665  0.03650781 -0.05025993]\n",
            " [ 0.11531376  0.06284999 -0.06018085]\n",
            " [ 0.13237995  0.05383611 -0.07849234]\n",
            " [ 0.12518748  0.04761169 -0.0619386 ]\n",
            " [ 0.1200793   0.03869888 -0.05805022]\n",
            " [ 0.13714127  0.04414231 -0.06230497]\n",
            " [ 0.15220209  0.06860628 -0.07151852]\n",
            " [ 0.16834802  0.06007846 -0.0888426 ]\n",
            " [ 0.15985172  0.05272569 -0.06928804]\n",
            " [ 0.15375991  0.04209663 -0.06465091]\n",
            " [ 0.17009366  0.04730773 -0.06872406]\n",
            " [ 0.18431405  0.07040657 -0.07742348]\n",
            " [ 0.19971005  0.06227484 -0.0939429 ]\n",
            " [ 0.19031372  0.05414318 -0.07231689]\n",
            " [ 0.18351709  0.04228434 -0.06714324]\n",
            " [ 0.19924207  0.04730123 -0.07106459]]\n",
            "[[ 0.          0.          0.        ]\n",
            " [ 0.02        0.03248691 -0.01223513]\n",
            " [ 0.03968062  0.02209216 -0.03335181]\n",
            " [ 0.03696942  0.01974587 -0.02711189]\n",
            " [ 0.03512822  0.01653332 -0.02571035]\n",
            " [ 0.05419193  0.02261539 -0.03046428]\n",
            " [ 0.07200065  0.05154291 -0.04135888]\n",
            " [ 0.09021758  0.04192125 -0.06090506]\n",
            " [ 0.08488414  0.03730565 -0.04862995]\n",
            " [ 0.08114428  0.0307803  -0.04578314]\n",
            " [ 0.09909665  0.03650781 -0.05025993]\n",
            " [ 0.11531376  0.06284999 -0.06018085]\n",
            " [ 0.13237995  0.05383611 -0.07849234]\n",
            " [ 0.12518748  0.04761169 -0.0619386 ]\n",
            " [ 0.1200793   0.03869888 -0.05805022]\n",
            " [ 0.13714127  0.04414231 -0.06230497]\n",
            " [ 0.15220209  0.06860628 -0.07151852]\n",
            " [ 0.16834802  0.06007846 -0.0888426 ]\n",
            " [ 0.15985172  0.05272569 -0.06928804]\n",
            " [ 0.15375991  0.04209663 -0.06465091]\n",
            " [ 0.17009366  0.04730773 -0.06872406]\n",
            " [ 0.18431405  0.07040657 -0.07742348]\n",
            " [ 0.19971005  0.06227484 -0.0939429 ]\n",
            " [ 0.19031372  0.05414318 -0.07231689]\n",
            " [ 0.18351709  0.04228434 -0.06714324]\n",
            " [ 0.19924207  0.04730123 -0.07106459]]\n"
          ]
        }
      ],
      "source": [
        "def test_lin_reg_fit_sgd(StudentLinearRegression):\n",
        "\n",
        "    student_lr_reg = StudentLinearRegression(max_iter=5)\n",
        "    test_case_X = np.array([[ 1.62434536, -0.61175641],\n",
        "                            [-0.52817175, -1.07296862],\n",
        "                            [ 0.86540763, -2.3015387 ],\n",
        "                            [ 1.74481176, -0.7612069 ],\n",
        "                            [ 0.3190391,  -0.24937038]])\n",
        "    test_case_y = np.array([1, 1, 0, 0, 1])\n",
        "    student_lr_reg.fit_sgd(test_case_X, test_case_y)\n",
        "    student_ans = student_lr_reg.hist_theta_\n",
        "    required_ans = np.array([[ 0. ,         0. ,         0.        ],\n",
        "        [ 0.02 ,       0.03248691, -0.01223513],\n",
        "        [ 0.03968062,  0.02209216, -0.03335181],\n",
        "        [ 0.03696942,  0.01974587, -0.02711189],\n",
        "        [ 0.03512822,  0.01653332, -0.02571035],\n",
        "        [ 0.05419193,  0.02261539, -0.03046428],\n",
        "        [ 0.07200065,  0.05154291, -0.04135888],\n",
        "        [ 0.09021758,  0.04192125, -0.06090506],\n",
        "        [ 0.08488414,  0.03730565, -0.04862995],\n",
        "        [ 0.08114428,  0.0307803 , -0.04578314],\n",
        "        [ 0.09909665,  0.03650781, -0.05025993],\n",
        "        [ 0.11531376,  0.06284999, -0.06018085],\n",
        "        [ 0.13237995,  0.05383611, -0.07849234],\n",
        "        [ 0.12518748,  0.04761169, -0.0619386 ],\n",
        "        [ 0.1200793 ,  0.03869888, -0.05805022],\n",
        "        [ 0.13714127,  0.04414231, -0.06230497],\n",
        "        [ 0.15220209,  0.06860628, -0.07151852],\n",
        "        [ 0.16834802,  0.06007846, -0.0888426 ],\n",
        "        [ 0.15985172,  0.05272569, -0.06928804],\n",
        "        [ 0.15375991,  0.04209663, -0.06465091],\n",
        "        [ 0.17009366,  0.04730773, -0.06872406],\n",
        "        [ 0.18431405,  0.07040657, -0.07742348],\n",
        "        [ 0.19971005,  0.06227484, -0.0939429 ],\n",
        "        [ 0.19031372,  0.05414318, -0.07231689],\n",
        "        [ 0.18351709,  0.04228434, -0.06714324],\n",
        "        [ 0.19924207,  0.04730123, -0.07106459]])\n",
        "    print(student_ans)\n",
        "    print(required_ans)\n",
        "    assert np.linalg.norm(student_ans - required_ans) <= 1e-2\n",
        "\n",
        "if NOTEBOOK:\n",
        "    test_lin_reg_fit_sgd(LinearRegression)"
      ]
    },
    {
      "cell_type": "code",
      "execution_count": 20,
      "metadata": {
        "id": "sewbA8dC5Fdm",
        "colab": {
          "base_uri": "https://localhost:8080/"
        },
        "outputId": "427f8a2c-93b9-41ce-8f0b-1899ef480b22"
      },
      "outputs": [
        {
          "output_type": "stream",
          "name": "stdout",
          "text": [
            "Correct! You earned 3/3 points. You are a star!\n",
            "\n",
            "Your submission has been successfully recorded in the gradebook.\n"
          ]
        }
      ],
      "source": [
        "# PennGrader Grading Cell\n",
        "if NOTEBOOK:\n",
        "    grader.grade(test_case_id = 'test_lin_reg_fit_sgd', answer = LinearRegression)"
      ]
    },
    {
      "cell_type": "code",
      "execution_count": 21,
      "metadata": {
        "id": "uQQN2ky4UYxx",
        "colab": {
          "base_uri": "https://localhost:8080/"
        },
        "outputId": "04df341c-d218-4b0b-d078-84eddee5ccbc"
      },
      "outputs": [
        {
          "output_type": "stream",
          "name": "stdout",
          "text": [
            "student_ans [0.04739416 0.02735934 0.02140787 0.04634383 0.04320043 0.02836861\n",
            " 0.03726417 0.03808224 0.03214353 0.05166998 0.05102933 0.05639199\n",
            " 0.0416892  0.03175554 0.04895695 0.03465034 0.02912364 0.03954521\n",
            " 0.0396391  0.06440433 0.03189335 0.06016748 0.03661307 0.07146111\n",
            " 0.05261461 0.04180017 0.03223834 0.0500466  0.06128615 0.05703506\n",
            " 0.05467262 0.04388664 0.04648138 0.07052753 0.04140456 0.02830984\n",
            " 0.05608863 0.0212115  0.05238969 0.05514024 0.04020117 0.05048966\n",
            " 0.04696158 0.04438422 0.05897309 0.05443805 0.03375689 0.04794345\n",
            " 0.04242038 0.04869202]\n"
          ]
        }
      ],
      "source": [
        "def test_lin_reg_predict(StudentLinearRegression):\n",
        "\n",
        "    student_lr_reg = StudentLinearRegression(max_iter=5)\n",
        "    np.random.seed(1)\n",
        "    test_case_X = np.random.randn(50, 2)\n",
        "    test_case_y = np.random.randint(0, 2, 50)\n",
        "    student_lr_reg.fit(test_case_X, test_case_y)\n",
        "    student_ans = student_lr_reg.predict(test_case_X)\n",
        "    print('student_ans', student_ans)\n",
        "    required_ans = np.array([0.04739416, 0.02735934, 0.02140787, 0.04634383, 0.04320043,\n",
        "       0.02836861, 0.03726417, 0.03808224, 0.03214353, 0.05166998,\n",
        "       0.05102933, 0.05639199, 0.0416892 , 0.03175554, 0.04895695,\n",
        "       0.03465034, 0.02912364, 0.03954521, 0.0396391 , 0.06440433,\n",
        "       0.03189335, 0.06016748, 0.03661307, 0.07146111, 0.05261461,\n",
        "       0.04180017, 0.03223834, 0.0500466 , 0.06128615, 0.05703506,\n",
        "       0.05467262, 0.04388664, 0.04648138, 0.07052753, 0.04140456,\n",
        "       0.02830984, 0.05608863, 0.0212115 , 0.05238969, 0.05514024,\n",
        "       0.04020117, 0.05048966, 0.04696158, 0.04438422, 0.05897309,\n",
        "       0.05443805, 0.03375689, 0.04794345, 0.04242038, 0.04869202])\n",
        "    \n",
        "    assert np.mean(np.abs(student_ans - required_ans)) <= 1e-2\n",
        "\n",
        "if NOTEBOOK:\n",
        "    test_lin_reg_predict(LinearRegression)"
      ]
    },
    {
      "cell_type": "code",
      "execution_count": 22,
      "metadata": {
        "id": "LvZwTzBBN00l",
        "colab": {
          "base_uri": "https://localhost:8080/"
        },
        "outputId": "3afa8015-2c72-4ace-c8d8-c5b4187aabff"
      },
      "outputs": [
        {
          "output_type": "stream",
          "name": "stdout",
          "text": [
            "Correct! You earned 1/1 points. You are a star!\n",
            "\n",
            "Your submission has been successfully recorded in the gradebook.\n"
          ]
        }
      ],
      "source": [
        "# PennGrader Grading Cell\n",
        "if NOTEBOOK:\n",
        "    grader.grade(test_case_id = 'test_lin_reg_predict', answer = LinearRegression)"
      ]
    },
    {
      "cell_type": "code",
      "execution_count": 23,
      "metadata": {
        "id": "UIACk5LZLqz7",
        "colab": {
          "base_uri": "https://localhost:8080/"
        },
        "outputId": "ee1d37c8-6728-4245-cacd-f4c58d9769d1"
      },
      "outputs": [
        {
          "output_type": "stream",
          "name": "stdout",
          "text": [
            "student_ans [0.4113478  0.28834918 0.1227324  0.39008601 0.43987045 0.17506316\n",
            " 0.40365951 0.32180596 0.32776898 0.56721846 0.63147595 0.57385561\n",
            " 0.38334306 0.31959516 0.5517445  0.39322627 0.3213112  0.45537132\n",
            " 0.48490982 0.62956115 0.32575875 0.72747134 0.37152396 0.81428507\n",
            " 0.57451273 0.42292006 0.3905908  0.56212164 0.64126265 0.62130162\n",
            " 0.65671342 0.43645374 0.47163355 0.74245718 0.29808437 0.35882346\n",
            " 0.61700668 0.15509352 0.59866825 0.60026664 0.43537041 0.5427557\n",
            " 0.49628385 0.51805151 0.65681787 0.52965323 0.36155917 0.49471154\n",
            " 0.47184886 0.57066729]\n"
          ]
        }
      ],
      "source": [
        "def test_lin_reg_predict_sgd(StudentLinearRegression):\n",
        "\n",
        "    student_lr_reg = StudentLinearRegression(max_iter=5)\n",
        "    np.random.seed(1)\n",
        "    test_case_X = np.random.randn(50, 2)\n",
        "    test_case_y = np.random.randint(0, 2, 50)\n",
        "    student_lr_reg.fit_sgd(test_case_X, test_case_y)\n",
        "    student_ans = student_lr_reg.predict(test_case_X)\n",
        "    print('student_ans', student_ans)\n",
        "    required_ans = np.array([0.4113478,  0.28834918, 0.1227324,  0.39008601, 0.43987045, 0.17506316,\n",
        "                            0.40365951, 0.32180596, 0.32776898, 0.56721846, 0.63147595, 0.57385561,\n",
        "                            0.38334306, 0.31959516, 0.5517445,  0.39322627, 0.3213112,  0.45537132,\n",
        "                            0.48490982, 0.62956115, 0.32575875, 0.72747134, 0.37152396, 0.81428507,\n",
        "                            0.57451273, 0.42292006, 0.3905908,  0.56212164, 0.64126265, 0.62130162,\n",
        "                            0.65671342, 0.43645374, 0.47163355, 0.74245718, 0.29808437, 0.35882346,\n",
        "                            0.61700668, 0.15509352, 0.59866825, 0.60026664, 0.43537041, 0.5427557,\n",
        "                            0.49628385, 0.51805151, 0.65681787, 0.52965323, 0.36155917, 0.49471154,\n",
        "                            0.47184886, 0.57066729])\n",
        "    \n",
        "    assert np.mean(np.abs(student_ans - required_ans)) <= 1e-2\n",
        "\n",
        "if NOTEBOOK:\n",
        "    test_lin_reg_predict_sgd(LinearRegression)"
      ]
    },
    {
      "cell_type": "code",
      "execution_count": 24,
      "metadata": {
        "id": "WKhfPR6uUJm9",
        "colab": {
          "base_uri": "https://localhost:8080/"
        },
        "outputId": "b7a4f04d-f455-43c3-83b2-e1051bdaf7b7"
      },
      "outputs": [
        {
          "output_type": "stream",
          "name": "stdout",
          "text": [
            "Correct! You earned 1/1 points. You are a star!\n",
            "\n",
            "Your submission has been successfully recorded in the gradebook.\n"
          ]
        }
      ],
      "source": [
        "# PennGrader Grading Cell\n",
        "if NOTEBOOK:\n",
        "    grader.grade(test_case_id = 'test_lin_reg_predict_sgd', answer = LinearRegression)"
      ]
    },
    {
      "cell_type": "markdown",
      "metadata": {
        "id": "hGlB3lojik_m"
      },
      "source": [
        "## **1.2. Synthetic dataset [Ungraded]**\n",
        "\n",
        "In this section we will first create some synthetic data on which we will run your linear regression implementation. We are creating 100 datapoints around the function y = mx + b, introducing Gaussian noise."
      ]
    },
    {
      "cell_type": "code",
      "execution_count": 25,
      "metadata": {
        "id": "Rqp2jLGTiJQo",
        "colab": {
          "base_uri": "https://localhost:8080/",
          "height": 265
        },
        "outputId": "2942a255-bdfb-4f82-cb50-e6e4e2d8ef35"
      },
      "outputs": [
        {
          "output_type": "display_data",
          "data": {
            "text/plain": [
              "<Figure size 432x288 with 1 Axes>"
            ],
            "image/png": "[encoded data removed]"
          },
          "metadata": {
            "needs_background": "light"
          }
        }
      ],
      "source": [
        "# Don't modify this cell\n",
        "if NOTEBOOK:\n",
        "    num_samples = 100\n",
        "\n",
        "    np.random.seed(1)\n",
        "    noise = np.random.randn(num_samples, 1)\n",
        "    X = np.random.randn(num_samples, 1)\n",
        "\n",
        "    y_ideal = 11*X + 5\n",
        "    y_real = (11*X + 5) + noise\n",
        "\n",
        "    plt.plot(X, y_real, 'ro')\n",
        "    plt.plot(X, y_ideal, 'b')"
      ]
    },
    {
      "cell_type": "markdown",
      "metadata": {
        "id": "2G9qQh_uiXQt"
      },
      "source": [
        "We see that this data is clearly regressable with a line, which, ideally, would be 11x + 5\n",
        "\n",
        "Train a linear regression model using gradient descent, you should see that training loss goes down with the number of iterations and obtain a theta that converges to a value very close to [b, m], which in this case, for 11x + 5, would be theta = [5, 11]\n",
        "\n",
        "Also, notice the effect of the type of regularization on the theta obtained (after convergence) as well as the testing MSE loss. Do they make sense, given what was discussed in class? "
      ]
    },
    {
      "cell_type": "code",
      "execution_count": 26,
      "metadata": {
        "id": "MYzOlitsiNCo",
        "colab": {
          "base_uri": "https://localhost:8080/",
          "height": 433
        },
        "outputId": "201dcc73-7445-4978-c6a0-ab67addc6e05"
      },
      "outputs": [
        {
          "output_type": "stream",
          "name": "stdout",
          "text": [
            "\n"
          ]
        },
        {
          "output_type": "error",
          "ename": "ValueError",
          "evalue": "ignored",
          "traceback": [
            "\u001b[0;31m---------------------------------------------------------------------------\u001b[0m",
            "\u001b[0;31mValueError\u001b[0m                                Traceback (most recent call last)",
            "\u001b[0;32m<ipython-input-26-83f156cd7e53>\u001b[0m in \u001b[0;36m<module>\u001b[0;34m\u001b[0m\n\u001b[1;32m     30\u001b[0m \u001b[0;34m\u001b[0m\u001b[0m\n\u001b[1;32m     31\u001b[0m \u001b[0;32mif\u001b[0m \u001b[0mNOTEBOOK\u001b[0m\u001b[0;34m:\u001b[0m\u001b[0;34m\u001b[0m\u001b[0;34m\u001b[0m\u001b[0m\n\u001b[0;32m---> 32\u001b[0;31m     \u001b[0mtest_synthetic_data_sgd\u001b[0m\u001b[0;34m(\u001b[0m\u001b[0mX\u001b[0m\u001b[0;34m,\u001b[0m \u001b[0my_ideal\u001b[0m\u001b[0;34m,\u001b[0m \u001b[0;36m500\u001b[0m\u001b[0;34m)\u001b[0m\u001b[0;34m\u001b[0m\u001b[0;34m\u001b[0m\u001b[0m\n\u001b[0m\u001b[1;32m     33\u001b[0m     \u001b[0mtest_synthetic_data_sgd\u001b[0m\u001b[0;34m(\u001b[0m\u001b[0mX\u001b[0m\u001b[0;34m,\u001b[0m \u001b[0my_ideal\u001b[0m\u001b[0;34m,\u001b[0m \u001b[0;36m500\u001b[0m\u001b[0;34m,\u001b[0m \u001b[0;34m\"l1\"\u001b[0m\u001b[0;34m,\u001b[0m \u001b[0;36m0.02\u001b[0m\u001b[0;34m)\u001b[0m\u001b[0;34m\u001b[0m\u001b[0;34m\u001b[0m\u001b[0m\n\u001b[1;32m     34\u001b[0m     \u001b[0mtest_synthetic_data_sgd\u001b[0m\u001b[0;34m(\u001b[0m\u001b[0mX\u001b[0m\u001b[0;34m,\u001b[0m \u001b[0my_ideal\u001b[0m\u001b[0;34m,\u001b[0m \u001b[0;36m500\u001b[0m\u001b[0;34m,\u001b[0m \u001b[0;34m\"l2\"\u001b[0m\u001b[0;34m,\u001b[0m \u001b[0;36m0.02\u001b[0m\u001b[0;34m)\u001b[0m\u001b[0;34m\u001b[0m\u001b[0;34m\u001b[0m\u001b[0m\n",
            "\u001b[0;32m<ipython-input-26-83f156cd7e53>\u001b[0m in \u001b[0;36mtest_synthetic_data_sgd\u001b[0;34m(X, y, n_iter, penalty, lambd)\u001b[0m\n\u001b[1;32m     16\u001b[0m   \u001b[0mloss\u001b[0m \u001b[0;34m=\u001b[0m \u001b[0msklearn\u001b[0m\u001b[0;34m.\u001b[0m\u001b[0mmetrics\u001b[0m\u001b[0;34m.\u001b[0m\u001b[0mmean_squared_error\u001b[0m\u001b[0;34m(\u001b[0m\u001b[0my_predict\u001b[0m\u001b[0;34m,\u001b[0m \u001b[0my_test\u001b[0m\u001b[0;34m)\u001b[0m\u001b[0;34m\u001b[0m\u001b[0;34m\u001b[0m\u001b[0m\n\u001b[1;32m     17\u001b[0m   \u001b[0mprint\u001b[0m\u001b[0;34m(\u001b[0m\u001b[0;34m)\u001b[0m\u001b[0;34m\u001b[0m\u001b[0;34m\u001b[0m\u001b[0m\n\u001b[0;32m---> 18\u001b[0;31m   \u001b[0mprint\u001b[0m\u001b[0;34m(\u001b[0m\u001b[0;34m\" Theta: {} \\n Norm of Theta: {} \\n Testing MSELoss: {}\"\u001b[0m\u001b[0;34m.\u001b[0m\u001b[0mformat\u001b[0m\u001b[0;34m(\u001b[0m\u001b[0mlr_model\u001b[0m\u001b[0;34m.\u001b[0m\u001b[0mtheta_\u001b[0m\u001b[0;34m,\u001b[0m \u001b[0mnp\u001b[0m\u001b[0;34m.\u001b[0m\u001b[0mlinalg\u001b[0m\u001b[0;34m.\u001b[0m\u001b[0mnorm\u001b[0m\u001b[0;34m(\u001b[0m\u001b[0mlr_model\u001b[0m\u001b[0;34m.\u001b[0m\u001b[0mtheta_\u001b[0m\u001b[0;34m,\u001b[0m \u001b[0mord\u001b[0m\u001b[0;34m=\u001b[0m\u001b[0;36m2\u001b[0m\u001b[0;34m)\u001b[0m\u001b[0;34m,\u001b[0m \u001b[0mloss\u001b[0m\u001b[0;34m)\u001b[0m\u001b[0;34m)\u001b[0m\u001b[0;34m\u001b[0m\u001b[0;34m\u001b[0m\u001b[0m\n\u001b[0m\u001b[1;32m     19\u001b[0m \u001b[0;34m\u001b[0m\u001b[0m\n\u001b[1;32m     20\u001b[0m   \u001b[0mloss_history\u001b[0m \u001b[0;34m=\u001b[0m \u001b[0mlr_model\u001b[0m\u001b[0;34m.\u001b[0m\u001b[0mhist_cost_\u001b[0m\u001b[0;34m\u001b[0m\u001b[0;34m\u001b[0m\u001b[0m\n",
            "\u001b[0;32m<__array_function__ internals>\u001b[0m in \u001b[0;36mnorm\u001b[0;34m(*args, **kwargs)\u001b[0m\n",
            "\u001b[0;32m/usr/local/lib/python3.8/dist-packages/numpy/linalg/linalg.py\u001b[0m in \u001b[0;36mnorm\u001b[0;34m(x, ord, axis, keepdims)\u001b[0m\n\u001b[1;32m   2609\u001b[0m         \u001b[0;32mreturn\u001b[0m \u001b[0mret\u001b[0m\u001b[0;34m\u001b[0m\u001b[0;34m\u001b[0m\u001b[0m\n\u001b[1;32m   2610\u001b[0m     \u001b[0;32melse\u001b[0m\u001b[0;34m:\u001b[0m\u001b[0;34m\u001b[0m\u001b[0;34m\u001b[0m\u001b[0m\n\u001b[0;32m-> 2611\u001b[0;31m         \u001b[0;32mraise\u001b[0m \u001b[0mValueError\u001b[0m\u001b[0;34m(\u001b[0m\u001b[0;34m\"Improper number of dimensions to norm.\"\u001b[0m\u001b[0;34m)\u001b[0m\u001b[0;34m\u001b[0m\u001b[0;34m\u001b[0m\u001b[0m\n\u001b[0m\u001b[1;32m   2612\u001b[0m \u001b[0;34m\u001b[0m\u001b[0m\n\u001b[1;32m   2613\u001b[0m \u001b[0;34m\u001b[0m\u001b[0m\n",
            "\u001b[0;31mValueError\u001b[0m: Improper number of dimensions to norm."
          ]
        }
      ],
      "source": [
        "import sklearn\n",
        "from sklearn.preprocessing import StandardScaler\n",
        "from sklearn.model_selection import train_test_split\n",
        "\n",
        "def test_synthetic_data_sgd(X, y, n_iter = 2000, penalty=None, lambd=0):\n",
        "  X_train, X_test, y_train, y_test = train_test_split(X, y, test_size=0.3, random_state=37)\n",
        "  # Given that we want to get theta as the weights of the linear equation, we won't \n",
        "  # standardize in this section\n",
        "\n",
        "  alpha = 0.03  # Learning Rate\n",
        "\n",
        "  # # Train the model\n",
        "  lr_model = LinearRegression(alpha = alpha, tol=1e-4, max_iter = n_iter, penalty=penalty, lambd=lambd)\n",
        "  lr_model.fit(X_train,y_train[:, 0])\n",
        "  y_predict = lr_model.predict(X_test)\n",
        "  loss = sklearn.metrics.mean_squared_error(y_predict, y_test)\n",
        "  print()\n",
        "  print(\" Theta: {} \\n Norm of Theta: {} \\n Testing MSELoss: {}\".format(lr_model.theta_, np.linalg.norm(lr_model.theta_, ord=2), loss))\n",
        "\n",
        "  loss_history = lr_model.hist_cost_\n",
        "  plt.plot(range(len(loss_history)), loss_history)\n",
        "  plt.title(\"OLS Training Loss\")\n",
        "  plt.xlabel(\"iteration\")\n",
        "  plt.ylabel(\"Loss\")\n",
        "  if penalty == \"l1\":\n",
        "    plt.title(\"L1 Regularised Training Loss\")\n",
        "  elif penalty == \"l2\":\n",
        "    plt.title(\"L2 Regularised Training Loss\")\n",
        "  plt.show()\n",
        "\n",
        "if NOTEBOOK:\n",
        "    test_synthetic_data_sgd(X, y_ideal, 500)\n",
        "    test_synthetic_data_sgd(X, y_ideal, 500, \"l1\", 0.02)\n",
        "    test_synthetic_data_sgd(X, y_ideal, 500, \"l2\", 0.02)"
      ]
    },
    {
      "cell_type": "markdown",
      "metadata": {
        "id": "8qUcFLi6tjL_"
      },
      "source": [
        "## **1.3. Effect of polynomial degree on training and validation error [5 pts, manually graded]**\n",
        "\n",
        "Now, we consider a dataset that was generated using some higher degree polynomial function of the input variable. We do not know the degree of the underlying polynomial. Let us assume it to be an unknown value \"p\" and try to estimate it.\n",
        "\n",
        "Polynomial regression hypothesis for one input variable  or feature (x) can be written as:\n",
        "> $y = w_0 + w_1x + w_2x^2 + ... + w_px^p $\n",
        "\n",
        "If you observe carefully, this can still be solved as a linear regression, where, instead of just 2 weights, we have p+1 weights, and the new features are higher order terms of the original feature. Using this idea, in this section, we will investigate how changing the assumed polynomial degree \"p\" in our model affects the training and validation error."
      ]
    },
    {
      "cell_type": "code",
      "execution_count": 27,
      "metadata": {
        "id": "UcpXD4pTarFC",
        "colab": {
          "base_uri": "https://localhost:8080/"
        },
        "outputId": "fe2b1eb0-cde0-4fea-9880-0f01f766c56d"
      },
      "outputs": [
        {
          "output_type": "stream",
          "name": "stdout",
          "text": [
            "/usr/local/lib/python3.8/dist-packages/gdown/cli.py:127: FutureWarning: Option `--id` was deprecated in version 4.3.1 and will be removed in 5.0. You don't need to pass it anymore to use a file ID.\n",
            "  warnings.warn(\n",
            "Downloading...\n",
            "From: https://drive.google.com/uc?id=1F5cGpc9ayxf49RQskiJFlL0v5LzCP7dn\n",
            "To: /content/cis519_hw2_poly_reg.csv\n",
            "100% 50.7k/50.7k [00:00<00:00, 41.7MB/s]\n"
          ]
        }
      ],
      "source": [
        "if NOTEBOOK:\n",
        "    \n",
        "    if not os.path.exists(\"cis519_hw2_poly_reg.csv\"):\n",
        "        !gdown --id 1F5cGpc9ayxf49RQskiJFlL0v5LzCP7dn\n",
        "    \n",
        "    poly_reg_df = pd.read_csv('cis519_hw2_poly_reg.csv')  "
      ]
    },
    {
      "cell_type": "code",
      "execution_count": 28,
      "metadata": {
        "id": "qJMhCZ6SuepA"
      },
      "outputs": [],
      "source": [
        "import sklearn\n",
        "from sklearn.preprocessing import PolynomialFeatures, StandardScaler\n",
        "from sklearn.model_selection import train_test_split\n",
        "from sklearn.linear_model import LinearRegression as LinearRegressionSklearn\n",
        "from sklearn.metrics import mean_squared_error\n",
        "\n",
        "def polynomial_regression(poly_reg_df, degrees):\n",
        "    \"\"\"\n",
        "    Runs polynomial regression on the dataset 'poly_reg_df' for all the powers in 'degrees'\n",
        "    \"\"\"\n",
        "\n",
        "    loss_train_list = []\n",
        "    loss_test_list = []\n",
        "\n",
        "    X_base = poly_reg_df.iloc[:, :-1].values\n",
        "    y = poly_reg_df.iloc[:, -1].values\n",
        "\n",
        "    for d in degrees:\n",
        "\n",
        "        # TODO START: Complete the function:\n",
        "        # 1. Transform the base feature X_base into its polynomial features of degree 'd' using PolynomialFeatures\n",
        "        # Set include_bias to be False\n",
        "        poly_features = PolynomialFeatures(degree=d, include_bias=False)\n",
        "        X = poly_features.fit_transform(X_base)\n",
        "        \n",
        "        # 2. Preprocessing and splitting into train/test (70-30 ratio and random_state as 42)\n",
        "        X_train, X_test, y_train, y_test = train_test_split(X, y, test_size=0.3, random_state=42)\n",
        "        \n",
        "        # 3. Scale X_train and X_test appropriately \n",
        "        sc = StandardScaler()\n",
        "        X_train = sc.fit_transform(X_train)\n",
        "        X_test = sc.transform(X_test)\n",
        "        \n",
        "        # 4. Use scikit-learn's LinearRegression (imported as LinearRegressionSklearn for you) to \n",
        "        # fit a linear model between the scaled version of X_train and y_train\n",
        "        regressor = LinearRegressionSklearn()\n",
        "        regressor.fit(X_train, y_train)\n",
        "        \n",
        "        # 5. Obtain predictions of the model on train and test data\n",
        "        y_train_pred = regressor.predict(X_train)\n",
        "        y_test_pred = regressor.predict(X_test)\n",
        "        \n",
        "        # 6. Compute the mean squared error and store it in loss_train and loss_test\n",
        "        loss_train = mean_squared_error(y_train, y_train_pred)\n",
        "        loss_test = mean_squared_error(y_test, y_test_pred)\n",
        "        \n",
        "        # 7. Append loss_train to loss_train_list and loss_test to loss_test_list\n",
        "        loss_train_list.append(loss_train)\n",
        "        loss_test_list.append(loss_test)\n",
        "        \n",
        "    return loss_train_list, loss_test_list\n",
        "    # TODO END"
      ]
    },
    {
      "cell_type": "markdown",
      "source": [],
      "metadata": {
        "id": "tPvFq_bdvohP"
      }
    },
    {
      "cell_type": "code",
      "execution_count": 29,
      "metadata": {
        "id": "aDiIc_XjuBqk",
        "colab": {
          "base_uri": "https://localhost:8080/",
          "height": 295
        },
        "outputId": "2dacbe16-11bc-4c49-cdba-1e85e29906bd"
      },
      "outputs": [
        {
          "output_type": "display_data",
          "data": {
            "text/plain": [
              "<Figure size 432x288 with 1 Axes>"
            ],
            "image/png": "[encoded data removed]"
          },
          "metadata": {
            "needs_background": "light"
          }
        }
      ],
      "source": [
        "import matplotlib.pyplot as plt\n",
        "\n",
        "if NOTEBOOK:\n",
        "\n",
        "    degrees = np.arange(1, 9)\n",
        "    \n",
        "    loss_train_list, loss_test_list = polynomial_regression(poly_reg_df, degrees)\n",
        "\n",
        "    # TODO START:\n",
        "    # Plot the polynomial degrees (x-axis) against loss_train_list (y-axis) and loss_test_list (y-axis) in a single plot, with different colors.\n",
        "    # Make sure to include x and y axis labels, legend as well as the title\n",
        "    plt.plot(degrees, loss_train_list, label='Train Loss')\n",
        "    plt.plot(degrees, loss_test_list, label='Test Loss')\n",
        "    plt.xlabel('Polynomial Degree')\n",
        "    plt.ylabel('Mean Squared Error')\n",
        "    plt.legend()\n",
        "    plt.title('Polynomial Regression Loss')\n",
        "    plt.show()\n",
        "    # TODO END"
      ]
    },
    {
      "cell_type": "markdown",
      "metadata": {
        "id": "L-ByMGwo1TBS"
      },
      "source": [
        "**Attach the plot to your written homework solutions. Describe the trends in the plot obtained. Briefly explain the reasoning behind why this would happen.**"
      ]
    },
    {
      "cell_type": "markdown",
      "metadata": {
        "id": "-TLTJhmiOr7X"
      },
      "source": [
        "## **1.4. Effect of learning rate on gradient descent [5 pts, manually graded]**\n",
        "\n"
      ]
    },
    {
      "cell_type": "markdown",
      "metadata": {
        "id": "qxNxtdHnRLws"
      },
      "source": [
        "Run the below cell to download the dataset."
      ]
    },
    {
      "cell_type": "code",
      "execution_count": 30,
      "metadata": {
        "id": "c6W4LVZgMl3g",
        "colab": {
          "base_uri": "https://localhost:8080/"
        },
        "outputId": "a86f3b7e-3dc5-49b1-e521-9634eff760c0"
      },
      "outputs": [
        {
          "output_type": "stream",
          "name": "stdout",
          "text": [
            "/usr/local/lib/python3.8/dist-packages/gdown/cli.py:127: FutureWarning: Option `--id` was deprecated in version 4.3.1 and will be removed in 5.0. You don't need to pass it anymore to use a file ID.\n",
            "  warnings.warn(\n",
            "Downloading...\n",
            "From: https://drive.google.com/uc?id=1CSD1vA9qZucuevxCuaOwr91tBaZcjNNh\n",
            "To: /content/cis519_hw2_admit.csv\n",
            "100% 3.61k/3.61k [00:00<00:00, 1.88MB/s]\n"
          ]
        }
      ],
      "source": [
        "if NOTEBOOK:\n",
        "    \n",
        "    if not os.path.exists(\"cis519_hw2_admit.csv\"):\n",
        "        !gdown --id 1CSD1vA9qZucuevxCuaOwr91tBaZcjNNh\n",
        "    \n",
        "    train_df = pd.read_csv(\"cis519_hw2_admit.csv\")"
      ]
    },
    {
      "cell_type": "markdown",
      "metadata": {
        "id": "mqzaeWj1PIa-"
      },
      "source": [
        "The dataset contains two features - scores in two exams and the target variable is whether the student was admitted into a college or not. Your task for this question is to use this dataset and plot the variation of cost function with respect to the number of gradient descent iterations for different learning rates. Perform the following steps.\n",
        "\n",
        "1. Scale the features using StandardScaler\n",
        "2. For each of the learning rates - {0.001, 0.01, 0.03, 0.1, 1.0}, fit a linear regression model to the scaled data by running a maximum of 100 iterations of gradient descent with L2 penalty and $\\lambda$ as 0.001.\n",
        "3. Show the variation of the cost (stored in `hist_cost_`) with respect to the number of iterations for all the learning rates in the same plot.\n",
        "\n",
        "Submit the plot along with the written homework solutions. The plot should have an appropriate title, axes labels, and legend. Briefly comment on the effect of increasing learning rate and what would be the best learning rate among the four values based on the plot."
      ]
    },
    {
      "cell_type": "code",
      "execution_count": 56,
      "metadata": {
        "id": "5xbTy8vxAaYf",
        "colab": {
          "base_uri": "https://localhost:8080/",
          "height": 948
        },
        "outputId": "e7fafa2d-86bc-4e59-8f88-8b23ab3d9ec2"
      },
      "outputs": [
        {
          "output_type": "display_data",
          "data": {
            "text/plain": [
              "<Figure size 576x1152 with 1 Axes>"
            ],
            "image/png": "[encoded data removed]"
          },
          "metadata": {
            "needs_background": "light"
          }
        }
      ],
      "source": [
        "# TODO: The previously the plot showed a divergent behavior for alpha=0.25, but with linear regression, we do not find any learning rate that exhibits such behavior\n",
        "\n",
        "if NOTEBOOK:\n",
        "    # STUDENT CODE STARTS:\n",
        "    train_df.columns = ['score1', 'score2', 'admit']\n",
        "    X = train_df[['score1', 'score2']]\n",
        "    y = train_df['admit']\n",
        "    scaler = StandardScaler()\n",
        "    X_std = scaler.fit_transform(X)\n",
        "    learn = [0.001, 0.01, 0.03, 0.1, 1]\n",
        "    plt.figure(figsize = (8,16))\n",
        "    for i in range(len(learn)):\n",
        "      lr = learn[i]\n",
        "      LR_model = LinearRegression(max_iter=100,tol=0.0001,penalty = \"l2\", lambd = 0.001, alpha = lr)\n",
        "      LR_model.fit(X_std, y)\n",
        "      plt.plot(LR_model.hist_cost_, label = \"lr : {}\".format(lr))\n",
        "    plt.legend()\n",
        "    plt.xlabel(\"iterations\")\n",
        "    plt.ylabel(\"cost\")\n",
        "    plt.title(\"cost of linear regression with different learning rates(lr)\")\n",
        "    plt.yticks(np.arange(0, 7.5, 0.25))\n",
        "    # STUDENT CODE ENDS"
      ]
    },
    {
      "cell_type": "markdown",
      "metadata": {
        "id": "YYRykDPr9U8A"
      },
      "source": [
        "Download the .ipynb notebook and submit on Gradescope."
      ]
    }
  ],
  "metadata": {
    "colab": {
      "provenance": []
    },
    "kernelspec": {
      "display_name": "Python 3.8.13 ('base')",
      "language": "python",
      "name": "python3"
    },
    "language_info": {
      "name": "python",
      "version": "3.8.13"
    },
    "vscode": {
      "interpreter": {
        "hash": "377c3e77380f886ab555d62b93e59a1648fc55affccd8d0220be3281f77f4c6d"
      }
    }
  },
  "nbformat": 4,
  "nbformat_minor": 0
}